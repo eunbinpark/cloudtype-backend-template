{
 "cells": [
  {
   "cell_type": "code",
   "execution_count": 42,
   "id": "9511be3b",
   "metadata": {},
   "outputs": [],
   "source": [
    "import numpy as np\n",
    "import six,numpy as np\n",
    "import os\n",
    "import csv\n",
    "import pandas as pd\n",
    "import pylab as pl\n",
    "import scipy, importlib, pprint, matplotlib.pyplot as plt, warnings\n",
    "import math\n",
    "import datetime as dt"
   ]
  },
  {
   "cell_type": "code",
   "execution_count": 43,
   "id": "b1f14561",
   "metadata": {},
   "outputs": [],
   "source": [
    "import warnings\n",
    "warnings.simplefilter(action='ignore', category=FutureWarning)\n",
    "\n",
    "import pandas"
   ]
  },
  {
   "cell_type": "code",
   "execution_count": 44,
   "id": "abb285a0",
   "metadata": {},
   "outputs": [
    {
     "name": "stderr",
     "output_type": "stream",
     "text": [
      "C:\\Users\\mrdet\\AppData\\Local\\Temp\\ipykernel_1912\\1504352570.py:4: DtypeWarning: Columns (24,51,60,61,62,63,67,68,71,175,176,177,178,181,182,183,184,185,186,187,188,191,192,193,194,195,196,197,198,201,202,203,204,205,206,207,208,209,210,212,213,215,216,217,218,219,220,221,222,223,224,225,227,228,229,230,231,232,233,234,235,236,237,238,239,240,243,244,247,248,249,250,251,252,253,254,255,256,257,258,259,260,261,262,265,266,267,268,269,275,276,277,278,279,280,281,282,283) have mixed types. Specify dtype option on import or set low_memory=False.\n",
      "  data_for_ai = pd.read_csv(file)\n"
     ]
    },
    {
     "name": "stdout",
     "output_type": "stream",
     "text": [
      "(72478, 288)\n"
     ]
    }
   ],
   "source": [
    "# select and define file \n",
    "\n",
    "file = 'C:/Users/mrdet/Desktop/Omicsyn/jupyter/notebook/cml_env/data_oasis_20231203.csv'\n",
    "data_for_ai = pd.read_csv(file)\n",
    "reader = csv.DictReader(open(file))\n",
    "df = pd.DataFrame(data_for_ai)\n",
    "print(data_for_ai.shape)"
   ]
  },
  {
   "cell_type": "code",
   "execution_count": 45,
   "id": "e65bc5cd",
   "metadata": {},
   "outputs": [],
   "source": [
    "num_visit = 2\n",
    "current_visit = data_for_ai.iloc[[num_visit,]]"
   ]
  },
  {
   "cell_type": "code",
   "execution_count": 46,
   "id": "febab9ee",
   "metadata": {},
   "outputs": [],
   "source": [
    "data = current_visit[[\"SEQ\",\n",
    "                      \"TKI_Type1\",\n",
    "                      \"TKI_Dose1\",\"ACD\",\n",
    "                      \"Min_Daily_Dose\",\n",
    "                      \"TotDays\",\n",
    "                      \"Days_from_Prev\",\n",
    "                      \"MAX(X.WBC)\",\n",
    "                      \"MAX(X.HEMOGLOBIN)\", \n",
    "                      \"MAX(X.PLATELET)\",\n",
    "                      \"MAX(X.BASOPHILS)\",\n",
    "                      \"MAX(X.PROMYELOCYTE)\",\n",
    "                      \"MAX(X.BLASTS)\",\n",
    "                      \"MAX(X.LYMPHOCYTES)\",\n",
    "                      \"MAX(X.EOSINOPHILS)\",\n",
    "                      \"MAX(X.METAMYELOCYTE)\",\n",
    "                      \"MAX(X.MONOCYTES)\",\n",
    "                      \"CH_PH\",\n",
    "                      \"CH_NONCLASPH\",\n",
    "                      \"BM_BLAST\",\n",
    "                      \"BM_BASOPHIL\",\n",
    "                      \"MUTATION\",\n",
    "                      \"RQPCR\",\n",
    "                      \"logRQPCR\",\n",
    "                      \"AE_CATEGORY_1\",\n",
    "                      \"GRADE_1\",\n",
    "                      \"AE_CODE_1\",\n",
    "                      \"AE_CATEGORY_2\",\n",
    "                      \"GRADE_2\",\n",
    "                      \"AE_CODE_2\",\n",
    "                      \"AE_CATEGORY_3\",\n",
    "                      \"GRADE_3\",\n",
    "                      \"AE_CODE_3\",\n",
    "                      \"delta_MAX(X.WBC)\",\n",
    "                      \"delta_MAX(X.HEMOGLOBIN)\", \n",
    "                      \"delta_MAX(X.PLATELET)\",\n",
    "                      \"delta_MAX(X.BASOPHILS)\",\n",
    "                      \"delta_MAX(X.PROMYELOCYTE)\",\n",
    "                      \"delta_MAX(X.BLASTS)\",\n",
    "                      \"delta_MAX(X.LYMPHOCYTES)\",\n",
    "                      \"delta_MAX(X.EOSINOPHILS)\",\n",
    "                      \"delta_MAX(X.METAMYELOCYTE)\",\n",
    "                      \"delta_MAX(X.MONOCYTES)\",\n",
    "                      \"delta_CH_PH\",\n",
    "                      \"delta_CH_NONCLASPH\",\n",
    "                      \"delta_BM_BLAST\",\n",
    "                      \"delta_BM_BASOPHIL\",\n",
    "                      \"delta_MUTATION\",\n",
    "                      \"delta_RQPCR\",\n",
    "                      \"delta_AE_CATEGORY_1\",\n",
    "                      \"delta_GRADE_1\",\n",
    "                      \"delta_AE_CODE_1\",\n",
    "                      \"delta_AE_CATEGORY_2\",\n",
    "                      \"delta_GRADE_2\",\n",
    "                      \"delta_AE_CODE_2\",\n",
    "                      \"delta_AE_CATEGORY_3\",\n",
    "                      \"delta_GRADE_3\",\n",
    "                      \"delta_AE_CODE_3\"]]"
   ]
  },
  {
   "cell_type": "code",
   "execution_count": 47,
   "id": "791a1fb9",
   "metadata": {},
   "outputs": [
    {
     "name": "stdout",
     "output_type": "stream",
     "text": [
      "   MAX(X.PROMYELOCYTE)\n",
      "2                  0.0\n",
      "   MAX(X.BLASTS)\n",
      "2            0.0\n",
      "   MAX(X.LYMPHOCYTES)\n",
      "2                45.0\n",
      "   MAX(X.METAMYELOCYTE)\n",
      "2                   0.0\n",
      "   MAX(X.MONOCYTES)\n",
      "2               8.0\n",
      "   AE_CATEGORY_1\n",
      "2            0.0\n",
      "   GRADE_1\n",
      "2      0.0\n",
      "   AE_CODE_1\n",
      "2        0.0\n",
      "   AE_CATEGORY_2\n",
      "2            0.0\n",
      "   delta_GRADE_1\n",
      "2            0.0\n",
      "   delta_AE_CODE_1\n",
      "2              0.0\n",
      "   delta_AE_CATEGORY_1\n",
      "2                  0.0\n"
     ]
    }
   ],
   "source": [
    "data_selected = current_visit[[\"MAX(X.PROMYELOCYTE)\",\"MAX(X.BLASTS)\",\"MAX(X.LYMPHOCYTES)\",\"MAX(X.METAMYELOCYTE)\",\"MAX(X.MONOCYTES)\",\"AE_CATEGORY_1\",\"GRADE_1\",\"AE_CODE_1\",\"AE_CATEGORY_2\",\"delta_AE_CATEGORY_1\",\"delta_GRADE_1\",\"delta_AE_CODE_1\"]]\n",
    "print(current_visit[[\"MAX(X.PROMYELOCYTE)\"]])\n",
    "print(current_visit[[\"MAX(X.BLASTS)\"]])\n",
    "print(current_visit[[\"MAX(X.LYMPHOCYTES)\"]])\n",
    "print(current_visit[[\"MAX(X.METAMYELOCYTE)\"]])\n",
    "print(current_visit[[\"MAX(X.MONOCYTES)\"]])\n",
    "print(current_visit[[\"AE_CATEGORY_1\"]])\n",
    "print(current_visit[[\"GRADE_1\"]])\n",
    "print(current_visit[[\"AE_CODE_1\"]])\n",
    "print(current_visit[[\"AE_CATEGORY_2\"]])\n",
    "print(current_visit[[\"delta_GRADE_1\"]])\n",
    "print(current_visit[[\"delta_AE_CODE_1\"]])\n",
    "print(current_visit[[\"delta_AE_CATEGORY_1\"]])"
   ]
  },
  {
   "cell_type": "code",
   "execution_count": 55,
   "id": "95c76491",
   "metadata": {},
   "outputs": [
    {
     "name": "stderr",
     "output_type": "stream",
     "text": [
      "C:\\Users\\mrdet\\AppData\\Local\\Programs\\Python\\Python312\\Lib\\site-packages\\sklearn\\base.py:376: InconsistentVersionWarning: Trying to unpickle estimator StandardScaler from version 1.0.2 when using version 1.5.2. This might lead to breaking code or invalid results. Use at your own risk. For more info please refer to:\n",
      "https://scikit-learn.org/stable/model_persistence.html#security-maintainability-limitations\n",
      "  warnings.warn(\n"
     ]
    }
   ],
   "source": [
    "import pickle\n",
    "\n",
    "scalerfile = 'cml_env/scaler_maintain_20240731.sav'\n",
    "scaler = pickle.load(open(scalerfile, 'rb'))\n",
    "data_scale = scaler.transform(data)\n",
    "data_scale = data_scale.flatten()"
   ]
  },
  {
   "cell_type": "code",
   "execution_count": 25,
   "id": "c5b353c3",
   "metadata": {},
   "outputs": [
    {
     "ename": "FileNotFoundError",
     "evalue": "[Errno 2] No such file or directory: 'index_maintain_20240731.sav'",
     "output_type": "error",
     "traceback": [
      "\u001b[1;31m---------------------------------------------------------------------------\u001b[0m",
      "\u001b[1;31mFileNotFoundError\u001b[0m                         Traceback (most recent call last)",
      "Cell \u001b[1;32mIn[25], line 2\u001b[0m\n\u001b[0;32m      1\u001b[0m indexfile \u001b[38;5;241m=\u001b[39m \u001b[38;5;124m'\u001b[39m\u001b[38;5;124mindex_maintain_20240731.sav\u001b[39m\u001b[38;5;124m'\u001b[39m\n\u001b[1;32m----> 2\u001b[0m index \u001b[38;5;241m=\u001b[39m pickle\u001b[38;5;241m.\u001b[39mload(\u001b[38;5;28;43mopen\u001b[39;49m\u001b[43m(\u001b[49m\u001b[43mindexfile\u001b[49m\u001b[43m,\u001b[49m\u001b[43m \u001b[49m\u001b[38;5;124;43m'\u001b[39;49m\u001b[38;5;124;43mrb\u001b[39;49m\u001b[38;5;124;43m'\u001b[39;49m\u001b[43m)\u001b[49m)\n\u001b[0;32m      3\u001b[0m feature_test \u001b[38;5;241m=\u001b[39m data_scale[index]\n\u001b[0;32m      4\u001b[0m feature_test \u001b[38;5;241m=\u001b[39m np\u001b[38;5;241m.\u001b[39mreshape(feature_test, (\u001b[38;5;241m1\u001b[39m, \u001b[38;5;241m-\u001b[39m\u001b[38;5;241m1\u001b[39m))\n",
      "File \u001b[1;32m~\\AppData\\Local\\Programs\\Python\\Python312\\Lib\\site-packages\\IPython\\core\\interactiveshell.py:324\u001b[0m, in \u001b[0;36m_modified_open\u001b[1;34m(file, *args, **kwargs)\u001b[0m\n\u001b[0;32m    317\u001b[0m \u001b[38;5;28;01mif\u001b[39;00m file \u001b[38;5;129;01min\u001b[39;00m {\u001b[38;5;241m0\u001b[39m, \u001b[38;5;241m1\u001b[39m, \u001b[38;5;241m2\u001b[39m}:\n\u001b[0;32m    318\u001b[0m     \u001b[38;5;28;01mraise\u001b[39;00m \u001b[38;5;167;01mValueError\u001b[39;00m(\n\u001b[0;32m    319\u001b[0m         \u001b[38;5;124mf\u001b[39m\u001b[38;5;124m\"\u001b[39m\u001b[38;5;124mIPython won\u001b[39m\u001b[38;5;124m'\u001b[39m\u001b[38;5;124mt let you open fd=\u001b[39m\u001b[38;5;132;01m{\u001b[39;00mfile\u001b[38;5;132;01m}\u001b[39;00m\u001b[38;5;124m by default \u001b[39m\u001b[38;5;124m\"\u001b[39m\n\u001b[0;32m    320\u001b[0m         \u001b[38;5;124m\"\u001b[39m\u001b[38;5;124mas it is likely to crash IPython. If you know what you are doing, \u001b[39m\u001b[38;5;124m\"\u001b[39m\n\u001b[0;32m    321\u001b[0m         \u001b[38;5;124m\"\u001b[39m\u001b[38;5;124myou can use builtins\u001b[39m\u001b[38;5;124m'\u001b[39m\u001b[38;5;124m open.\u001b[39m\u001b[38;5;124m\"\u001b[39m\n\u001b[0;32m    322\u001b[0m     )\n\u001b[1;32m--> 324\u001b[0m \u001b[38;5;28;01mreturn\u001b[39;00m \u001b[43mio_open\u001b[49m\u001b[43m(\u001b[49m\u001b[43mfile\u001b[49m\u001b[43m,\u001b[49m\u001b[43m \u001b[49m\u001b[38;5;241;43m*\u001b[39;49m\u001b[43margs\u001b[49m\u001b[43m,\u001b[49m\u001b[43m \u001b[49m\u001b[38;5;241;43m*\u001b[39;49m\u001b[38;5;241;43m*\u001b[39;49m\u001b[43mkwargs\u001b[49m\u001b[43m)\u001b[49m\n",
      "\u001b[1;31mFileNotFoundError\u001b[0m: [Errno 2] No such file or directory: 'index_maintain_20240731.sav'"
     ]
    }
   ],
   "source": [
    "indexfile = 'index_maintain_20240731.sav'\n",
    "index = pickle.load(open(indexfile, 'rb'))\n",
    "feature_test = data_scale[index]\n",
    "feature_test = np.reshape(feature_test, (1, -1))"
   ]
  },
  {
   "cell_type": "code",
   "execution_count": 31,
   "id": "2091727d",
   "metadata": {},
   "outputs": [
    {
     "ename": "NameError",
     "evalue": "name 'model_from_json' is not defined",
     "output_type": "error",
     "traceback": [
      "\u001b[1;31m---------------------------------------------------------------------------\u001b[0m",
      "\u001b[1;31mNameError\u001b[0m                                 Traceback (most recent call last)",
      "Cell \u001b[1;32mIn[31], line 6\u001b[0m\n\u001b[0;32m      4\u001b[0m loaded_model_json \u001b[38;5;241m=\u001b[39m json_file\u001b[38;5;241m.\u001b[39mread()\n\u001b[0;32m      5\u001b[0m json_file\u001b[38;5;241m.\u001b[39mclose()\n\u001b[1;32m----> 6\u001b[0m loaded_model \u001b[38;5;241m=\u001b[39m \u001b[43mmodel_from_json\u001b[49m(loaded_model_json)\n\u001b[0;32m      8\u001b[0m \u001b[38;5;66;03m# load weights into new model\u001b[39;00m\n\u001b[0;32m     10\u001b[0m loaded_model\u001b[38;5;241m.\u001b[39mload_weights(\u001b[38;5;124m\"\u001b[39m\u001b[38;5;124mC:/Users/mrdet/Desktop/Omicsyn/jupyter/notebook/cml_env/maintain_20240731.h5\u001b[39m\u001b[38;5;124m\"\u001b[39m)\n",
      "\u001b[1;31mNameError\u001b[0m: name 'model_from_json' is not defined"
     ]
    }
   ],
   "source": [
    "# load model \n",
    "\n",
    "json_file = open('C:/Users/mrdet/Desktop/Omicsyn/jupyter/notebook/cml_env/maintain_20240731.json', 'r')\n",
    "loaded_model_json = json_file.read()\n",
    "json_file.close()\n",
    "loaded_model = model_from_json(loaded_model_json)\n",
    "\n",
    "# load weights into new model\n",
    "\n",
    "loaded_model.load_weights(\"C:/Users/mrdet/Desktop/Omicsyn/jupyter/notebook/cml_env/maintain_20240731.h5\")\n",
    "print(\"Loaded model from disk\")\n",
    "\n",
    "# make a prediction \n",
    "\n",
    "loaded_model.compile(loss = 'binary_crossentropy', optimizer = 'adam', metrics = ['accuracy'])\n",
    "predict = loaded_model.predict(feature_test)\n",
    "print(predict)\n",
    "\n",
    "if (predict > 0.5):\n",
    "    \n",
    "    print(\"Discontinue with the current treatment\")\n",
    "\n",
    "else:\n",
    "    \n",
    "    print(\"Continue with the current treatment\")"
   ]
  },
  {
   "cell_type": "code",
   "execution_count": null,
   "id": "9e66a9d0",
   "metadata": {},
   "outputs": [],
   "source": []
  }
 ],
 "metadata": {
  "kernelspec": {
   "display_name": "Python 3 (ipykernel)",
   "language": "python",
   "name": "python3"
  },
  "language_info": {
   "codemirror_mode": {
    "name": "ipython",
    "version": 3
   },
   "file_extension": ".py",
   "mimetype": "text/x-python",
   "name": "python",
   "nbconvert_exporter": "python",
   "pygments_lexer": "ipython3",
   "version": "3.12.6"
  }
 },
 "nbformat": 4,
 "nbformat_minor": 5
}
